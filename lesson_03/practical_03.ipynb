{
  "nbformat": 4,
  "nbformat_minor": 0,
  "metadata": {
    "colab": {
      "name": "practical_03.ipynb",
      "provenance": [],
      "collapsed_sections": [
        "jF75We7Qut4a",
        "p42f8KeL2dqw"
      ]
    },
    "kernelspec": {
      "name": "python3",
      "display_name": "Python 3"
    }
  },
  "cells": [
    {
      "cell_type": "markdown",
      "metadata": {
        "id": "jF75We7Qut4a"
      },
      "source": [
        "#Даны значения зарплат из выборки выпускников: 100, 80, 75, 77, 89, 33, 45, 25, 65, 17, 30, 24, 57, 55, 70, 75, 65, 84, 90, 150. Посчитать (желательно без использования статистических методов наподобие std, var, mean) среднее арифметическое, среднее квадратичное отклонение, смещенную и несмещенную оценки дисперсий для данной выборки."
      ]
    },
    {
      "cell_type": "code",
      "metadata": {
        "id": "DAjpeBzluyr4",
        "outputId": "1906cbb2-2ba2-4feb-8396-31355fc0918b",
        "colab": {
          "base_uri": "https://localhost:8080/"
        }
      },
      "source": [
        "import numpy as np\n",
        "\n",
        "my_array = [100, 80, 75, 77, 89, 33, 45, 25, 65, 17, 30, 24, 57, 55, 70, 75, 65, 84, 90, 150]\n",
        "\n",
        "avg = np.mean(my_array) # функция numpy\n",
        "\n",
        "# расчет средней арифметической\n",
        "i = len(my_array)\n",
        "avg = (sum((int(my_array[i]) for i in range(0, int(len(my_array)))))) / len(my_array)\n",
        "print(f'Средняя арифметическая = {avg}')\n",
        "\n",
        "# расчет средней квадратичной отклонения\n",
        "std = np.std(my_array)\n",
        "print(f'Средняя квадратичная отклонения = {std}')\n",
        "\n",
        "# смещенная оценка дисперсии\n",
        "var = np.var(my_array)\n",
        "print(f'Смещенная оценка дисперсии = {var}')\n",
        "\n",
        "# несмещенная оценка дисперсии\n",
        "var_1 = np.var(my_array, ddof = 1)\n",
        "print(f'Несмещенная оценка дисперсии = {var_1}')"
      ],
      "execution_count": null,
      "outputs": [
        {
          "output_type": "stream",
          "text": [
            "Средняя арифметическая = 65.3\n",
            "Средняя квадратичная отклонения = 30.823854398825596\n",
            "Смещенная оценка дисперсии = 950.11\n",
            "Несмещенная оценка дисперсии = 1000.1157894736842\n"
          ],
          "name": "stdout"
        }
      ]
    },
    {
      "cell_type": "markdown",
      "metadata": {
        "id": "p42f8KeL2dqw"
      },
      "source": [
        "#В первом ящике находится 8 мячей, из которых 5 - белые. Во втором ящике - 12 мячей, из которых 5 белых. Из первого ящика вытаскивают случайным образом два мяча, из второго - 4. Какова вероятность того, что 3 мяча белые?"
      ]
    },
    {
      "cell_type": "markdown",
      "metadata": {
        "id": "YrelQxuJ3B8U"
      },
      "source": [
        "Решение с использованием формулы комбинаторики на определение числа Сочетаний:"
      ]
    },
    {
      "cell_type": "code",
      "metadata": {
        "id": "zEX43Gv63SCV",
        "outputId": "26d5f0c0-fb1d-450f-a3ed-2b2f357b2372",
        "colab": {
          "base_uri": "https://localhost:8080/",
          "height": 35
        }
      },
      "source": [
        "from math import factorial\n",
        "\n",
        "def combination(n, k):\n",
        "  return int(factorial(n) / (factorial(k) * factorial(n - k)))\n",
        "\n",
        "# Комбинации:\n",
        "#1ящ_0б + 2ящ_3б\n",
        "#1ящ_1б + 2ящ_2б\n",
        "#1ящ_2б + 2ящ_1б\n",
        "\n",
        "# Комбинация 1\n",
        "P_1 = combination(3, 2) / combination(8, 2)\n",
        "P_2 = combination(5, 3) * combination(7, 1) / combination(12, 3)\n",
        "\n",
        "P1 = P_1 * P_2\n",
        "\n",
        "# Комбинация 2\n",
        "P_3 = combination(5, 1) * combination(3, 1) / combination(8, 2)\n",
        "P_4 = combination(5, 2) * combination(7, 2) / combination(12, 4)\n",
        "\n",
        "P2 = P_3 * P_4\n",
        "\n",
        "# Комбинация 3\n",
        "P_5 = combination(5, 2) / combination(8, 2)\n",
        "P_6 = combination(5, 1) * combination(7, 3) / combination(12, 4)\n",
        "\n",
        "P3 = P_5 * P_6\n",
        "\n",
        "# Сумма всех вероятностей\n",
        "P = P1 + P2 + P3\n",
        "P\n"
      ],
      "execution_count": null,
      "outputs": [
        {
          "output_type": "execute_result",
          "data": {
            "text/plain": [
              "0.38762626262626265"
            ]
          },
          "metadata": {
            "tags": []
          },
          "execution_count": 37
        }
      ]
    },
    {
      "cell_type": "markdown",
      "metadata": {
        "id": "Kzy-PHiZWHyS"
      },
      "source": [
        "# На соревновании по биатлону один из трех спортсменов стреляет и попадает в мишень. Вероятность попадания для первого спортсмена равна 0.9, для второго — 0.8, для третьего — 0.6. Найти вероятность того, что выстрел произведен: a). первым спортсменом б). вторым спортсменом в). третьим спортсменом.\n",
        "\n",
        "p_1 = 0.9;\n",
        "p_2 = 0.8;\n",
        "p_3 = 0.6"
      ]
    },
    {
      "cell_type": "markdown",
      "metadata": {
        "id": "HcXN9eZ88ZP6"
      },
      "source": [
        "Поскольку выстрел был произведен только 1, то для каждого спортсмена вероятность того, что именно им был сделан выстрел = 1/3.\n",
        "\n",
        "Вероятность уже наступившего события определяется по формуле Байеса:"
      ]
    },
    {
      "cell_type": "markdown",
      "metadata": {
        "id": "mRrwF3R4BRkw"
      },
      "source": [
        "$$ P(B | A) = \\frac{P(B) \\cdot P(A | B)}{P(A)}$$, где:"
      ]
    },
    {
      "cell_type": "markdown",
      "metadata": {
        "id": "hgVyZpf_CjqN"
      },
      "source": [
        "A - попадения в мишень\n",
        "B1 - стрелял первый спортсмен;\n",
        "B2 - стрелял второй спортсмен;\n",
        "B3 - стрелял третий спортсмен. "
      ]
    },
    {
      "cell_type": "code",
      "metadata": {
        "id": "0FkHQof4Y2-r",
        "outputId": "5ec36c8c-79df-44b2-894f-020b34e3cadd",
        "colab": {
          "base_uri": "https://localhost:8080/",
          "height": 70
        }
      },
      "source": [
        "P_A = (1/3 * 0.9) + (1/3 * 0.8) + (1/3 * 0.6)\n",
        "\n",
        "P_1 = (1/3 * 0.9)/P_A\n",
        "P_2 = (1/3 * 0.8)/P_A\n",
        "P_3 = (1/3 * 0.6)/P_A\n",
        "\n",
        "print(f'Вероятность, что выстрел произвел первый спортсмен: {P_1}')\n",
        "print(f'Вероятность, что выстрел произвел второй спортсмен: {P_2}')\n",
        "print(f'Вероятность, что выстрел произвел третий спортсмен: {P_3}')"
      ],
      "execution_count": null,
      "outputs": [
        {
          "output_type": "stream",
          "text": [
            "Вероятность, что выстрел произвел первый спортсмен: 0.391304347826087\n",
            "Вероятность, что выстрел произвел второй спортсмен: 0.3478260869565218\n",
            "Вероятность, что выстрел произвел третий спортсмен: 0.2608695652173913\n"
          ],
          "name": "stdout"
        }
      ]
    },
    {
      "cell_type": "markdown",
      "metadata": {
        "id": "3pncFU0-Y3n7"
      },
      "source": [
        "#В университет на факультеты A и B поступило равное количество студентов, а на факультет C студентов поступило столько же, сколько на A и B вместе. Вероятность того, что студент факультета A сдаст первую сессию, равна 0.8. Для студента факультета B эта вероятность равна 0.7, а для студента факультета C - 0.9. Студент сдал первую сессию. Какова вероятность, что он учится: a). на факультете A б). на факультете B в). на факультете C?"
      ]
    },
    {
      "cell_type": "markdown",
      "metadata": {
        "id": "Cf-g9gh2SHFw"
      },
      "source": [
        "Вероятность уже наступившего события определяется по формуле Байеса:\n",
        "\n",
        "$$ P(B | A) = \\frac{P(B) \\cdot P(A | B)}{P(A)}$$, где:\n",
        "\n",
        "событие А - студент поступил в университет\n",
        "\n",
        "событие B - студент сдал сессию"
      ]
    },
    {
      "cell_type": "code",
      "metadata": {
        "id": "Vh58XP89Y6b0",
        "outputId": "70285140-3f57-464a-8f10-5dc33e9edf5f",
        "colab": {
          "base_uri": "https://localhost:8080/",
          "height": 70
        }
      },
      "source": [
        "# вероятность, что студент зачислен на один из факультетов (а, b, c)\n",
        "P_a = 25/100\n",
        "P_b = 25/100\n",
        "P_c = 50/100\n",
        "\n",
        "P_A = P_a*0.8 + P_b*0.7 + P_c*0.9\n",
        "\n",
        "P_Ba = (0.8 * 0.25)/P_A\n",
        "print(f'Вероятность, что студент учится на фак-те А: {P_Ba}')\n",
        "P_Bb = (0.7 * 0.25)/P_A\n",
        "print(f'Вероятность, что студент учится на фак-те B: {P_Bb}')\n",
        "P_Bc = (0.9 * 0.5)/P_A\n",
        "print(f'Вероятность, что студент учится на фак-те C: {P_Bc}')\n"
      ],
      "execution_count": 13,
      "outputs": [
        {
          "output_type": "stream",
          "text": [
            "Вероятность, что студент учится на фак-те А: 0.24242424242424246\n",
            "Вероятность, что студент учится на фак-те B: 0.21212121212121213\n",
            "Вероятность, что студент учится на фак-те C: 0.5454545454545455\n"
          ],
          "name": "stdout"
        }
      ]
    },
    {
      "cell_type": "markdown",
      "metadata": {
        "id": "FqLoR3m_Y6wF"
      },
      "source": [
        "Устройство состоит из трех деталей. Для первой детали вероятность выйти из строя в первый месяц равна 0.1, для второй - 0.2, для третьей - 0.25. Какова вероятность того, что в первый месяц выйдут из строя: а). все детали б). только две детали в). хотя бы одна деталь г). от одной до двух деталей?\n"
      ]
    },
    {
      "cell_type": "code",
      "metadata": {
        "id": "lpNg8aVcWOu3"
      },
      "source": [
        "p_1 = 0.1\n",
        "p_2 = 0.2\n",
        "p_3 = 0.25"
      ],
      "execution_count": null,
      "outputs": []
    },
    {
      "cell_type": "markdown",
      "metadata": {
        "id": "gTE7isDoV2ZI"
      },
      "source": [
        "Условие (А): найти вероятность, что все детали выйдут из строя:"
      ]
    },
    {
      "cell_type": "code",
      "metadata": {
        "id": "e0ObsZoSY9Xq",
        "outputId": "7d119ea7-42a9-4cdb-926e-6e99657abab2",
        "colab": {
          "base_uri": "https://localhost:8080/",
          "height": 35
        }
      },
      "source": [
        "p_1 = 0.1\n",
        "p_2 = 0.2\n",
        "p_3 = 0.25\n",
        "P_A = p_1*p_2*p_3\n",
        "print(f'Вероятность, что все детали выйдут из строя: {P_A}')"
      ],
      "execution_count": 22,
      "outputs": [
        {
          "output_type": "stream",
          "text": [
            "Вероятность, что все детали выйдут из строя: 0.005000000000000001\n"
          ],
          "name": "stdout"
        }
      ]
    },
    {
      "cell_type": "markdown",
      "metadata": {
        "id": "La9wPypEXCHv"
      },
      "source": [
        "Условие (Б): найти вероятность, что только две детали выйдут из строя:"
      ]
    },
    {
      "cell_type": "code",
      "metadata": {
        "id": "wskAWHWQXPZ2",
        "outputId": "f7e110c1-7fb1-4558-b45f-c488870e90e7",
        "colab": {
          "base_uri": "https://localhost:8080/",
          "height": 35
        }
      },
      "source": [
        "p_1 = 0.1\n",
        "p_2 = 0.2\n",
        "p_3 = 0.25\n",
        "P_A = (p_1*p_2)*(1-p_3) + (p_1*p_3)*(1-p_2) + (p_2*p_3)*(1-p_1)\n",
        "print(f'Вероятность, что выйдут две детали из строя: {P_A})"
      ],
      "execution_count": 25,
      "outputs": [
        {
          "output_type": "stream",
          "text": [
            "0.08000000000000002\n"
          ],
          "name": "stdout"
        }
      ]
    },
    {
      "cell_type": "markdown",
      "metadata": {
        "id": "AbTThO1qbB7Q"
      },
      "source": [
        "Условие (В): найти вероятность, что выйдет из строя хотя бы одна деталь:"
      ]
    },
    {
      "cell_type": "code",
      "metadata": {
        "id": "Ay3Sel5LbKEX",
        "outputId": "4771e9ce-af74-4a0d-9c66-99b2df303728",
        "colab": {
          "base_uri": "https://localhost:8080/",
          "height": 35
        }
      },
      "source": [
        "p_1 = 0.1\n",
        "p_2 = 0.2\n",
        "p_3 = 0.25\n",
        "P_A = p_1+p_2+p_3\n",
        "print(f'Вероятность, что выйдет из строя хотя бы одна деталь: {P_A}')"
      ],
      "execution_count": 30,
      "outputs": [
        {
          "output_type": "stream",
          "text": [
            "Вероятность, что выйдет из строя хотя бы одна деталь: 0.55\n"
          ],
          "name": "stdout"
        }
      ]
    }
  ]
}