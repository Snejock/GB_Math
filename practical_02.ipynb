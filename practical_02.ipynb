{
  "nbformat": 4,
  "nbformat_minor": 0,
  "metadata": {
    "colab": {
      "name": "Untitled0.ipynb",
      "provenance": [],
      "authorship_tag": "ABX9TyN5UQLib/SO7/uk3p3t+EqE",
      "include_colab_link": true
    },
    "kernelspec": {
      "name": "python3",
      "display_name": "Python 3"
    }
  },
  "cells": [
    {
      "cell_type": "markdown",
      "metadata": {
        "id": "view-in-github",
        "colab_type": "text"
      },
      "source": [
        "<a href=\"https://colab.research.google.com/github/Snejock/GB_Math/blob/master/practical_02.ipynb\" target=\"_parent\"><img src=\"https://colab.research.google.com/assets/colab-badge.svg\" alt=\"Open In Colab\"/></a>"
      ]
    },
    {
      "cell_type": "markdown",
      "metadata": {
        "id": "7YYgWS8POdHU"
      },
      "source": [
        "#Вероятность того, что стрелок попадет в мишень, выстрелив один раз, равна 0.8. Стрелок выстрелил 100 раз. Найдите вероятность того, что стрелок попадет в цель ровно 85 раз.**\n",
        "\n",
        "\n",
        "Вероятность поражения мишени, p = 0.8;\n",
        "число испытаний, n = 100;\n",
        "число поражений мишений = 85\n",
        "\n",
        "Поскольку число испытаний небольшое, а вероятность наступления события достаточно велика, то вероятность того, что событие А состоится ровно 85 раз определяется по формуле Бернулли:"
      ]
    },
    {
      "cell_type": "markdown",
      "metadata": {
        "id": "TkoOchWqzdpB"
      },
      "source": [
        "$$P_n(X=k) = C_n^k p^k q^{n-k}$$"
      ]
    },
    {
      "cell_type": "markdown",
      "metadata": {
        "id": "0pCgquXhjIsQ"
      },
      "source": [
        "Число сочетаний определяется по формуле комбинаторики:"
      ]
    },
    {
      "cell_type": "markdown",
      "metadata": {
        "id": "IEEWqV0AiqgF"
      },
      "source": [
        "$$C_n^k = \\frac{n!}{k!(n - k)!}$$"
      ]
    },
    {
      "cell_type": "markdown",
      "metadata": {
        "id": "WIjC8nKVjbUY"
      },
      "source": [
        "Решение:"
      ]
    },
    {
      "cell_type": "markdown",
      "metadata": {
        "id": "rz65e6gXRJIq"
      },
      "source": [
        "$$P_n(X=85) = C_{100}^{85} p^{85} q^{100-85} = \\frac{100!}{85!(100-85)!} \\cdot 0.80^{85} \\cdot ({1-0.8})^{100-85}$$\n"
      ]
    },
    {
      "cell_type": "code",
      "metadata": {
        "id": "reKvMCVwkVkm",
        "outputId": "c5830f95-0b73-45d2-c359-3aafc4747a7a",
        "colab": {
          "base_uri": "https://localhost:8080/",
          "height": 35
        }
      },
      "source": [
        "from math import factorial\n",
        "n = 100\n",
        "p = 0.80\n",
        "k = 85\n",
        "q = 1 - p\n",
        "\n",
        "P_k = factorial(n)/(factorial(k)*(factorial(n-k))) * p ** k * (1 - p) ** (n-k)\n",
        "P_k"
      ],
      "execution_count": 4,
      "outputs": [
        {
          "output_type": "execute_result",
          "data": {
            "text/plain": [
              "0.048061793700746355"
            ]
          },
          "metadata": {
            "tags": []
          },
          "execution_count": 4
        }
      ]
    },
    {
      "cell_type": "markdown",
      "metadata": {
        "id": "AVwKqTyVl47x"
      },
      "source": [
        "#Вероятность того, что лампочка перегорит в течение первого дня эксплуатации, равна 0.0004. В жилом комплексе после ремонта в один день включили 5000 новых лампочек. Какова вероятность, что ни одна из них не перегорит в первый день? Какова вероятность, что перегорят ровно две?\n",
        "\n",
        "Вероятность того, что лампочка перегорит в первый день, p = 0.0004\n",
        "\n",
        "Число испытаний, n = 5000"
      ]
    },
    {
      "cell_type": "markdown",
      "metadata": {
        "id": "4TvGkTNomWS2"
      },
      "source": [
        "Поскольку число испытаний достаточно большое, а вероятность наступления события очень низка, то вероятность того, что событие А состоится ровно k раз определяется по формуле Пуассона:"
      ]
    },
    {
      "cell_type": "markdown",
      "metadata": {
        "id": "Nn8vhRpnmtFM"
      },
      "source": [
        "$$P_m \\approx \\frac{\\lambda^m}{m!}e^{-\\lambda}$$"
      ]
    },
    {
      "cell_type": "markdown",
      "metadata": {
        "id": "9h6NXlgbzdqC"
      },
      "source": [
        "где $λ = np$."
      ]
    },
    {
      "cell_type": "markdown",
      "metadata": {
        "id": "jYz84LBWnAZm"
      },
      "source": [
        "Решение, для m = 0:"
      ]
    },
    {
      "cell_type": "markdown",
      "metadata": {
        "id": "BB7E1iHZtsYc"
      },
      "source": [
        "$$P_m \\approx \\frac{\\lambda^m}{m!}e^{-\\lambda} \\approx \\frac{{(n \\cdot p)}^0}{0!}e^{-(n \\cdot p)} \\approx \\frac{{(5000 \\cdot 0.0004)}^0}{0!}e^{-(5000 \\cdot 0.0004)}$$"
      ]
    },
    {
      "cell_type": "code",
      "metadata": {
        "id": "TOIsi3ngvyYw",
        "outputId": "68f6140e-418d-4aa7-d6cd-e478cd438726",
        "colab": {
          "base_uri": "https://localhost:8080/",
          "height": 35
        }
      },
      "source": [
        "import numpy as np\n",
        "from math import factorial\n",
        "n = 5000\n",
        "p = 0.0004\n",
        "m = 0\n",
        "lmd = n * p\n",
        "\n",
        "P_m = ((lmd**m)/factorial(m)) * np.exp(-lmd)\n",
        "P_m"
      ],
      "execution_count": 2,
      "outputs": [
        {
          "output_type": "execute_result",
          "data": {
            "text/plain": [
              "0.1353352832366127"
            ]
          },
          "metadata": {
            "tags": []
          },
          "execution_count": 2
        }
      ]
    },
    {
      "cell_type": "markdown",
      "metadata": {
        "id": "C56JOt9Bw8Ky"
      },
      "source": [
        "Проверим с помощью формулы биномиального распределения Бернулли:\n"
      ]
    },
    {
      "cell_type": "code",
      "metadata": {
        "id": "UmACljBko3x5",
        "outputId": "2a0cff26-4716-4e74-915f-562db438e412",
        "colab": {
          "base_uri": "https://localhost:8080/",
          "height": 35
        }
      },
      "source": [
        "from math import factorial\n",
        "n = 5000\n",
        "p = 0.0004\n",
        "k = 0\n",
        "q = 1 - p\n",
        "\n",
        "P_k = factorial(n)/(factorial(k)*(factorial(n-k))) * p ** k * (1 - p) ** (n-k)\n",
        "P_k"
      ],
      "execution_count": 10,
      "outputs": [
        {
          "output_type": "execute_result",
          "data": {
            "text/plain": [
              "0.13528114551440706"
            ]
          },
          "metadata": {
            "tags": []
          },
          "execution_count": 10
        }
      ]
    },
    {
      "cell_type": "markdown",
      "metadata": {
        "id": "irXCvh7rrOoL"
      },
      "source": [
        "Решение, m = 2:"
      ]
    },
    {
      "cell_type": "markdown",
      "metadata": {
        "id": "7u5107M4xS_3"
      },
      "source": [
        "$$P_m \\approx \\frac{\\lambda^m}{m!}e^{-\\lambda} \\approx \\frac{{(n \\cdot p)}^2}{2!}e^{-(n \\cdot p)} \\approx \\frac{{(5000 \\cdot 0.0004)}^0}{0!}e^{-(5000 \\cdot 0.0004)}$$"
      ]
    },
    {
      "cell_type": "code",
      "metadata": {
        "id": "o572hqLtxOBW",
        "outputId": "70e6c349-560c-4044-c276-e99ec691bdbb",
        "colab": {
          "base_uri": "https://localhost:8080/",
          "height": 35
        }
      },
      "source": [
        "import numpy as np\n",
        "from math import factorial\n",
        "n = 5000\n",
        "p = 0.0004\n",
        "m = 2\n",
        "lmd = n * p\n",
        "\n",
        "P_m = ((lmd**m)/factorial(m)) * np.exp(-lmd)\n",
        "P_m"
      ],
      "execution_count": 3,
      "outputs": [
        {
          "output_type": "execute_result",
          "data": {
            "text/plain": [
              "0.2706705664732254"
            ]
          },
          "metadata": {
            "tags": []
          },
          "execution_count": 3
        }
      ]
    },
    {
      "cell_type": "markdown",
      "metadata": {
        "id": "ms7G-305xoy5"
      },
      "source": [
        "Проверим с помощью формулы биномиального распределения Бернулли:"
      ]
    },
    {
      "cell_type": "code",
      "metadata": {
        "id": "J1uiEEznrgPQ",
        "outputId": "1c919109-73fd-407a-c452-f447f199237f",
        "colab": {
          "base_uri": "https://localhost:8080/",
          "height": 35
        }
      },
      "source": [
        "from math import factorial\n",
        "n = 5000\n",
        "p = 0.0004\n",
        "k = 2\n",
        "q = 1 - p\n",
        "\n",
        "P_k = factorial(n)/(factorial(k)*(factorial(n-k))) * p ** k * (1 - p) ** (n-k)\n",
        "P_k"
      ],
      "execution_count": 11,
      "outputs": [
        {
          "output_type": "execute_result",
          "data": {
            "text/plain": [
              "0.2707247150266753"
            ]
          },
          "metadata": {
            "tags": []
          },
          "execution_count": 11
        }
      ]
    },
    {
      "cell_type": "markdown",
      "metadata": {
        "id": "rnF1QmOWsC_O"
      },
      "source": [
        "#Монету подбросили 144 раза. Какова вероятность, что орел выпадет ровно 70 раз?\n",
        "Число испытаний, n = 144;\n",
        "успешных испытаний k = 70; вероятность наступления успешного испытания p = 0.5"
      ]
    },
    {
      "cell_type": "markdown",
      "metadata": {
        "id": "zUuxWfYesFug"
      },
      "source": [
        "Вероятность того, что событие А состоится ровно k раз определяется по формуле Бернулли:"
      ]
    },
    {
      "cell_type": "markdown",
      "metadata": {
        "id": "diXQNU4htEV3"
      },
      "source": [
        "$$P_n(X=k) = C_n^k p^k q^{n-k}$$"
      ]
    },
    {
      "cell_type": "markdown",
      "metadata": {
        "id": "BV854_QQtJK-"
      },
      "source": [
        "Число сочетаний определяется по формуле комбинаторики:"
      ]
    },
    {
      "cell_type": "markdown",
      "metadata": {
        "id": "0GfnRETXtNA-"
      },
      "source": [
        "$$C_n^k = \\frac{n!}{k!(n - k)!}$$"
      ]
    },
    {
      "cell_type": "markdown",
      "metadata": {
        "id": "EuaioGoWtSSB"
      },
      "source": [
        "Решение:"
      ]
    },
    {
      "cell_type": "markdown",
      "metadata": {
        "id": "9y_kC9h3tWQo"
      },
      "source": [
        "$$P_n(X=70) = C_{144}^{70} p^{70} q^{144-70} = \\frac{144!}{70!(144-70)!} \\cdot 0.5^{70} \\cdot ({1-0.5})^{144-70}$$\n"
      ]
    },
    {
      "cell_type": "code",
      "metadata": {
        "id": "LrnyH5aHuTqP",
        "outputId": "199d15fe-5e43-4fad-d27a-d094ab27a069",
        "colab": {
          "base_uri": "https://localhost:8080/",
          "height": 35
        }
      },
      "source": [
        "from math import factorial\n",
        "n = 144\n",
        "p = 0.5\n",
        "k = 70\n",
        "q = 1 - p\n",
        "\n",
        "P_k = factorial(n)/(factorial(k)*(factorial(n-k))) * p ** k * (1 - p) ** (n-k)\n",
        "P_k"
      ],
      "execution_count": 12,
      "outputs": [
        {
          "output_type": "execute_result",
          "data": {
            "text/plain": [
              "0.06281178035144776"
            ]
          },
          "metadata": {
            "tags": []
          },
          "execution_count": 12
        }
      ]
    },
    {
      "cell_type": "markdown",
      "metadata": {
        "id": "z3RJRydDujLk"
      },
      "source": [
        "#В первом ящике находится 10 мячей, из которых 7 - белые. Во втором ящике - 11 мячей, из которых 9 белых. Из каждого ящика вытаскивают случайным образом по два мяча. Какова вероятность того, что все мячи белые? Какова вероятность того, что ровно два мяча белые? Какова вероятность того, что хотя бы один мяч белый?\n",
        "\n"
      ]
    },
    {
      "cell_type": "markdown",
      "metadata": {
        "id": "DV9REpCczph-"
      },
      "source": [
        "Решение 1. Вероятность того, что все мячи белые:\n"
      ]
    },
    {
      "cell_type": "markdown",
      "metadata": {
        "id": "2U2NpEAy3C8O"
      },
      "source": [
        "Вероятность достать 2 белых мяча из первого ящика:\n",
        "$$ P(1) = \\frac {7}{10} \\cdot \\frac {6}{9}$$"
      ]
    },
    {
      "cell_type": "markdown",
      "metadata": {
        "id": "mvP-8kCL4YWu"
      },
      "source": [
        "Вероятность достать 2 белых мяча из второго ящика:\n",
        "$$ P(2) = \\frac {9}{11} \\cdot \\frac {8}{10}$$"
      ]
    },
    {
      "cell_type": "code",
      "metadata": {
        "id": "nsbNeT5p3JQM",
        "outputId": "201ae8eb-07cf-4bb3-9371-563ec20d7772",
        "colab": {
          "base_uri": "https://localhost:8080/",
          "height": 35
        }
      },
      "source": [
        "P_1 = (7/10) * (6/9)\n",
        "P_2 = (9/11) * (8/10)\n",
        "P = P_1 * P_2\n",
        "P"
      ],
      "execution_count": 23,
      "outputs": [
        {
          "output_type": "execute_result",
          "data": {
            "text/plain": [
              "0.3054545454545455"
            ]
          },
          "metadata": {
            "tags": []
          },
          "execution_count": 23
        }
      ]
    },
    {
      "cell_type": "markdown",
      "metadata": {
        "id": "8M3oZrKQ70UU"
      },
      "source": [
        "Проверим через решение по формуле определения числа сочитаний комбинаторики:\n"
      ]
    },
    {
      "cell_type": "markdown",
      "metadata": {
        "id": "QAG4yNo1ImN9"
      },
      "source": [
        "$$C_n^k = \\frac{n!}{k!(n - k)!} = \\frac{7}{2! (7 - 2)!}$$"
      ]
    },
    {
      "cell_type": "code",
      "metadata": {
        "id": "ZHTNcad8KHGO",
        "outputId": "8359acf1-4ad7-4a7f-9a76-2171ad7fcc59",
        "colab": {
          "base_uri": "https://localhost:8080/",
          "height": 35
        }
      },
      "source": [
        "from math import factorial\n",
        "\n",
        "def combination(n, k):\n",
        "  return int(factorial(n) / (factorial(k) * factorial(n - k)))\n",
        "\n",
        "P_1 = combination(7, 2) / combination(10, 2)\n",
        "P_2 = combination(9, 2) / combination(11, 2)\n",
        "\n",
        "P_1 * P_2\n"
      ],
      "execution_count": 27,
      "outputs": [
        {
          "output_type": "execute_result",
          "data": {
            "text/plain": [
              "0.3054545454545455"
            ]
          },
          "metadata": {
            "tags": []
          },
          "execution_count": 27
        }
      ]
    },
    {
      "cell_type": "markdown",
      "metadata": {
        "id": "WorxqSeDLU11"
      },
      "source": [
        "Решение 2. Вероятность того, что ровно 2 мяча белые:"
      ]
    },
    {
      "cell_type": "code",
      "metadata": {
        "id": "UTz9GWpaL58Z",
        "outputId": "e9d84ef0-dcaa-4f45-89ef-c38c44e7264a",
        "colab": {
          "base_uri": "https://localhost:8080/",
          "height": 35
        }
      },
      "source": [
        "from math import factorial\n",
        "\n",
        "def combination(n, k):\n",
        "  return int(factorial(n) / (factorial(k) * factorial(n - k)))\n",
        "\n",
        "# Только из первого ящика достали 2 белых шара\n",
        "P_1 = combination(7, 2) / combination(10, 2)\n",
        "P_2 = combination(2, 2) / combination(11, 2)\n",
        "P1 = P_1 * P_2\n",
        "\n",
        "# Только из второго ящика достали 2 белых шара\n",
        "P_1 = combination(3, 2) / combination(10, 2)\n",
        "P_2 = combination(9, 2) / combination(11, 2)\n",
        "\n",
        "P2 = P_1 * P_2\n",
        "\n",
        "# По одному белому шару достали из каждого ящика\n",
        "P_1 = combination(7, 1) * combination(3, 1) / combination(10, 2)\n",
        "P_2 = combination(9, 1) * combination(2, 1) / combination(11, 2)\n",
        "\n",
        "P3 = P_1 * P_2\n",
        "\n",
        "# Сумма всех вероятностей\n",
        "P1 + P2 + P3"
      ],
      "execution_count": 35,
      "outputs": [
        {
          "output_type": "execute_result",
          "data": {
            "text/plain": [
              "0.20484848484848486"
            ]
          },
          "metadata": {
            "tags": []
          },
          "execution_count": 35
        }
      ]
    },
    {
      "cell_type": "markdown",
      "metadata": {
        "id": "NLNcnjylNmnL"
      },
      "source": [
        "Решение 3. Вероятность того, что будет хотя бы 1 белый шар:"
      ]
    },
    {
      "cell_type": "code",
      "metadata": {
        "id": "5poNwDEVPbBy",
        "outputId": "2bb1d537-836e-4b07-995d-ac2b791fc5e2",
        "colab": {
          "base_uri": "https://localhost:8080/",
          "height": 35
        }
      },
      "source": [
        "from math import factorial\n",
        "\n",
        "def combination(n, k):\n",
        "  return int(factorial(n) / (factorial(k) * factorial(n - k)))\n",
        "\n",
        "# Только из первого ящика достали 1 белый шар\n",
        "P_1 = combination(7, 1) * combination(3, 1) / combination(10, 2)\n",
        "P_2 = combination(2, 2) / combination(11, 2)\n",
        "P1 = P_1 * P_2\n",
        "\n",
        "# Только из второго ящика достали 1 белый шар\n",
        "P_1 = combination(3, 2) / combination(10, 2)\n",
        "P_2 = combination(2, 1) * combination(9, 1) / combination(11, 2)\n",
        "\n",
        "P2 = P_1 * P_2\n",
        "\n",
        "# По одному белому шару достали из каждого ящика\n",
        "P_1 = combination(7, 1) * combination(3, 1) / combination(10, 2)\n",
        "P_2 = combination(9, 1) * combination(2, 1) / combination(11, 2)\n",
        "\n",
        "P3 = P_1 * P_2\n",
        "\n",
        "# Вероятность достать 2 белых шара мы определили в предыдущем задании\n",
        "P4 = 0.20484848484848486\n",
        "\n",
        "# Вероятность достать 3 белых шара (2 + 1):\n",
        "P_1 = combination(7, 2) / combination(10, 2)\n",
        "P_2 = combination(9, 1) * combination(2, 1) / combination(11, 2)\n",
        "\n",
        "P5 = P_1 * P_2\n",
        "\n",
        "# Вероятность достать 3 белых шара (1 + 2):\n",
        "P_1 = combination(7, 1) * combination(3, 1) / combination(10, 2)\n",
        "P_2 = combination(9, 2) / combination(11, 2)\n",
        "\n",
        "P6 = P_1 * P_2\n",
        "\n",
        "# Вероятность достать 4 белых шара (2 + 2):\n",
        "P_1 = combination(7, 2) / combination(10, 2)\n",
        "P_2 = combination(9, 2) / combination(11, 2)\n",
        "\n",
        "P7 = P_1 * P_2\n",
        "\n",
        "P = P1 + P2 + P3 + P4 + P5 + P6 + P7\n",
        "P"
      ],
      "execution_count": 41,
      "outputs": [
        {
          "output_type": "execute_result",
          "data": {
            "text/plain": [
              "1.1515151515151516"
            ]
          },
          "metadata": {
            "tags": []
          },
          "execution_count": 41
        }
      ]
    }
  ]
}