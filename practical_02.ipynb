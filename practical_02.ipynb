{
  "nbformat": 4,
  "nbformat_minor": 0,
  "metadata": {
    "colab": {
      "name": "Untitled0.ipynb",
      "provenance": [],
      "authorship_tag": "ABX9TyOtnD1RIGH0gzcmd75KsrCM",
      "include_colab_link": true
    },
    "kernelspec": {
      "name": "python3",
      "display_name": "Python 3"
    }
  },
  "cells": [
    {
      "cell_type": "markdown",
      "metadata": {
        "id": "view-in-github",
        "colab_type": "text"
      },
      "source": [
        "<a href=\"https://colab.research.google.com/github/Snejock/GB_Math/blob/master/practical_02.ipynb\" target=\"_parent\"><img src=\"https://colab.research.google.com/assets/colab-badge.svg\" alt=\"Open In Colab\"/></a>"
      ]
    },
    {
      "cell_type": "markdown",
      "metadata": {
        "id": "7YYgWS8POdHU"
      },
      "source": [
        "Вероятность того, что стрелок попадет в мишень, выстрелив один раз, равна 0.8. Стрелок выстрелил 100 раз. Найдите вероятность того, что стрелок попадет в цель ровно 85 раз.\n",
        "\n",
        "\n",
        "Вероятность поражения мишени, p = 0.8\n",
        "Число испытаний, n = 100\n",
        "Число поражений мишений = 85\n",
        "\n",
        "Вероятность возможного числа наступления событий А определяется по формуле Бернулли:"
      ]
    },
    {
      "cell_type": "markdown",
      "metadata": {
        "id": "TkoOchWqzdpB"
      },
      "source": [
        "$$P_n(X=k) = C_n^k p^k q^{n-k}$$"
      ]
    },
    {
      "cell_type": "markdown",
      "metadata": {
        "id": "hgkCHyjQRDSn"
      },
      "source": [
        ""
      ]
    },
    {
      "cell_type": "markdown",
      "metadata": {
        "id": "rz65e6gXRJIq"
      },
      "source": [
        "$$P_n(X=85) = C_{100}^{85} 0.85^{85} q^{100-85}$$"
      ]
    }
  ]
}